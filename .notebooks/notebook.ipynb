{
 "cells": [
  {
   "cell_type": "code",
   "execution_count": 46,
   "id": "6a0a8331",
   "metadata": {},
   "outputs": [],
   "source": [
    "def generate_rules(num_options):   # num_options must be an odd integer.\n",
    "    rules = {}\n",
    "    for x in [int(x) for x in range(0,num_options)]:\n",
    "        rules[x] = []\n",
    "        for y in range(x + 1,x + (num_options - 1) // 2 + 1):\n",
    "            rules[x] += [y % num_options]\n",
    "    return rules"
   ]
  },
  {
   "cell_type": "code",
   "execution_count": 47,
   "id": "b2990bc8",
   "metadata": {},
   "outputs": [
    {
     "data": {
      "text/plain": [
       "{0: [1, 2, 3],\n",
       " 1: [2, 3, 4],\n",
       " 2: [3, 4, 5],\n",
       " 3: [4, 5, 6],\n",
       " 4: [5, 6, 0],\n",
       " 5: [6, 0, 1],\n",
       " 6: [0, 1, 2]}"
      ]
     },
     "execution_count": 47,
     "metadata": {},
     "output_type": "execute_result"
    }
   ],
   "source": [
    "generate_rules(7)"
   ]
  }
 ],
 "metadata": {
  "kernelspec": {
   "display_name": "base",
   "language": "python",
   "name": "python3"
  },
  "language_info": {
   "codemirror_mode": {
    "name": "ipython",
    "version": 3
   },
   "file_extension": ".py",
   "mimetype": "text/x-python",
   "name": "python",
   "nbconvert_exporter": "python",
   "pygments_lexer": "ipython3",
   "version": "3.12.4"
  }
 },
 "nbformat": 4,
 "nbformat_minor": 5
}
